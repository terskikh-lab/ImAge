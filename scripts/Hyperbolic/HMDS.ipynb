{
 "cells": [
  {
   "cell_type": "code",
   "execution_count": null,
   "id": "05040a15-4fff-4564-9272-af344f576a11",
   "metadata": {},
   "outputs": [],
   "source": [
    "import scipy\n",
    "import random\n",
    "import pickle\n",
    "import plotly\n",
    "import numpy as np\n",
    "import pandas as pd\n",
    "import cmdstanpy as stan\n",
    "import plotly.express as px\n",
    "from scipy.io import loadmat\n",
    "from numpy import pi, sin, cos\n",
    "from scipy.special import gamma\n",
    "import matplotlib.pyplot as plt\n",
    "import plotly.graph_objects as go\n",
    "import scipy.integrate as integrate\n",
    "from scipy.spatial.distance import pdist, squareform\n",
    "import matplotlib.patches as patches\n",
    "\n",
    "import warnings\n",
    "warnings.filterwarnings('default')\n",
    "\n",
    "import logging\n",
    "logger = logging.getLogger('cmdstanpy')\n",
    "logger.setLevel(logging.ERROR)\n",
    "\n",
    "%matplotlib inline\n",
    "\n",
    "#if this is the first time of running this script, please uncomment the following line\n",
    "stan.install_cmdstan(version='2.31.0')"
   ]
  },
  {
   "cell_type": "markdown",
   "id": "9ae1ee9b",
   "metadata": {},
   "source": [
    "# Import the data"
   ]
  },
  {
   "cell_type": "code",
   "execution_count": null,
   "id": "d44feeb0-14f6-4c95-b403-cc6dddadb129",
   "metadata": {},
   "outputs": [],
   "source": [
    "Raw_data_folder = 'Example_data'\n",
    "\n",
    "df_raw_data = pd.read_csv(Raw_data_folder+'/Example_data.csv', index_col=[0,1,2,3,4,5])\n"
   ]
  },
  {
   "cell_type": "code",
   "execution_count": null,
   "id": "ee618fa1-e151-4eca-909c-be8f63a28bd8",
   "metadata": {},
   "outputs": [],
   "source": [
    "df_raw_data"
   ]
  },
  {
   "cell_type": "markdown",
   "id": "3a116f1a",
   "metadata": {},
   "source": [
    "# Calculate the pairwise distance matrix"
   ]
  },
  {
   "cell_type": "code",
   "execution_count": null,
   "id": "195f0efb",
   "metadata": {},
   "outputs": [],
   "source": [
    "corr_dmat = squareform(pdist(df_raw_data))\n",
    "\n",
    "# display the pairewise distance matrix\n",
    "display(pd.DataFrame(corr_dmat))"
   ]
  },
  {
   "cell_type": "code",
   "execution_count": null,
   "id": "e428e6e1-51a6-4e34-a790-a5f321e2afc1",
   "metadata": {},
   "outputs": [],
   "source": [
    "\n",
    "# normalize the distance matrix \n",
    "corr_dmat = 2.0*corr_dmat/np.max(corr_dmat)\n",
    "print(corr_dmat.shape)\n",
    "N = corr_dmat.shape[0]\n",
    "print(N)\n",
    "\n",
    "# visualize the pairwise distance matrix\n",
    "fig, axs = plt.subplots(2, figsize=(3,5))\n",
    "axs[0].imshow(corr_dmat)\n",
    "axs[1].hist(corr_dmat[np.triu_indices(N, 1)])\n",
    "fig.tight_layout()"
   ]
  },
  {
   "cell_type": "markdown",
   "id": "fbd15837",
   "metadata": {},
   "source": [
    "# Initialize the STAN for hyperboloic MDS"
   ]
  },
  {
   "cell_type": "code",
   "execution_count": null,
   "id": "f153900d-1ac1-4493-88d6-756c47526a9e",
   "metadata": {},
   "outputs": [],
   "source": [
    "def d_lor(t1, t2, E1, E2):\n",
    "    return np.arccosh(t1*t2 - np.dot(E1, E2))\n",
    "\n",
    "def get_poin(fit):\n",
    "    ts = np.sqrt(1.0 + np.sum(np.square(fit.euc), axis=1))\n",
    "    return (fit.euc.T / (ts + 1)).T\n",
    "    ts = np.sqrt(1.0 + np.sum(np.square(fit), axis=1))\n",
    "    return (fit.T / (ts + 1)).T\n",
    "\n",
    "#returns embedding distance matrix from optimization fit\n",
    "def get_embed_dmat(fit):\n",
    "    N = fit.euc.shape[0]\n",
    "    fit_ts = np.sqrt(1.0 + np.sum(np.square(fit.euc), axis=1))\n",
    "\n",
    "    fit_mat = np.zeros((N, N))\n",
    "\n",
    "    for i in np.arange(N):\n",
    "        for j in np.arange(i+1,N):\n",
    "            fit_mat[i][j] = d_lor(fit_ts[i], fit_ts[j], fit.euc[i], fit.euc[j])\n",
    "            fit_mat[j][i] = fit_mat[i][j]\n",
    "            \n",
    "    return fit_mat\n",
    "\n",
    "#return negative log likelihood of fit\n",
    "def MDS_lkl(fit, dmat):\n",
    "    lkl = 0;\n",
    "    N = fit.sig.shape[0]\n",
    "    \n",
    "    sigs = fit.sig\n",
    "    lam = fit.stan_variable('lambda')\n",
    "    emb_mat = get_embed_dmat(fit)\n",
    "    \n",
    "    for i in np.arange(N):\n",
    "        for j in np.arange(i+1, N):\n",
    "            seff = sigs[i]**2 + sigs[j]**2\n",
    "            lkl += ((dmat[i][j] - emb_mat[i][j]/lam)**2 / (2.0*seff)) + 0.5*np.log(seff*2.0*np.pi)\n",
    "    return lkl\n",
    "\n",
    "#input: optimization fit and distance matrix\n",
    "def BIC(fit, dmat):\n",
    "    N,D = fit.euc.shape\n",
    "    n = 0.5*N*(N-1)\n",
    "    k = N*D + N + 1.0 - 0.5*D*(D-1)\n",
    "    \n",
    "    return k*np.log(n) + 2.0*MDS_lkl(fit,dmat)\n",
    "\n",
    "def h_get_dmat(p_coords):\n",
    "    N = p_coords.shape[0]\n",
    "    dists = np.zeros((N, N))\n",
    "    \n",
    "    for i in np.arange(N):\n",
    "        for j in np.arange(i+1, N):\n",
    "            dists[i][j] = poincare_dist(p_coords[i], p_coords[j])\n",
    "            dists[j][i] = dists[i][j]\n",
    "    return dists\n",
    "\n",
    "#returns hyperbolic distance between vectors in poincare ball\n",
    "def poincare_dist(v1, v2):\n",
    "    sq = np.sum(np.square(v1-v2))\n",
    "    r1 = np.sum(np.square(v1))\n",
    "    r2 = np.sum(np.square(v2))\n",
    "    inv = 2.0*sq/((1.0-r1)*(1.0-r2))\n",
    "    return np.arccosh(1.0 + inv)"
   ]
  },
  {
   "cell_type": "code",
   "execution_count": null,
   "id": "b782d376-2a59-4b4b-9786-b56a4d5c7d6c",
   "metadata": {},
   "outputs": [],
   "source": [
    "# Compile\n",
    "ltz_model = stan.CmdStanModel(stan_file='lorentz.stan')"
   ]
  },
  {
   "cell_type": "code",
   "execution_count": null,
   "id": "9e31f82d-4aa2-436d-a2e9-d0d5e55dde36",
   "metadata": {},
   "outputs": [],
   "source": [
    "# Choose a dimension to embedd the data\n",
    "\n",
    "dim_choose = 3\n",
    "dat={'N':N, 'D':dim_choose, 'deltaij':corr_dmat}\n",
    "model = ltz_model.optimize(data=dat, iter=250000, algorithm='LBFGS', tol_rel_grad=1e3, show_console=True, refresh=1000)"
   ]
  },
  {
   "cell_type": "code",
   "execution_count": null,
   "id": "c4fedd89-8909-4020-a234-47f4316297a4",
   "metadata": {},
   "outputs": [],
   "source": [
    "# Get the curvature from the embedding\n",
    "print(model.stan_variable('lambda'))\n",
    "\n",
    "# Get the coordinates from the embedding\n",
    "poincare = get_poin(model)\n",
    "df_data_embedded = pd.DataFrame(poincare, columns = ['X','Y','Z'], index = df_raw_data.index)\n",
    "df_data_embedded"
   ]
  },
  {
   "cell_type": "code",
   "execution_count": null,
   "id": "77154bfa-0153-46a3-9d31-9c6461d9a156",
   "metadata": {},
   "outputs": [],
   "source": [
    "# check the performance of the embedding by comparing the pairwise distance before and after the embedding\n",
    "plt.figure(figsize=(6,6))\n",
    "h_dmat = h_get_dmat(poincare)\n",
    "x = np.arange(N**2).reshape(N, N)\n",
    "dist = corr_dmat[np.triu_indices(N, 1)]\n",
    "h_dist = h_dmat[np.triu_indices(N, 1)]\n",
    "\n",
    "plt.scatter(dist,h_dist/model.stan_variable('lambda'),s=1)\n",
    "plt.plot([0,2],[0,2])\n",
    "plt.axis('square')\n",
    "plt.title('Shepard Diagram Hyperbolic Embedding')\n",
    "plt.xlabel('True Distance')\n",
    "plt.ylabel('Embedded Distance')"
   ]
  },
  {
   "cell_type": "markdown",
   "id": "ab926139",
   "metadata": {},
   "source": [
    "# Visualize the embedding"
   ]
  },
  {
   "cell_type": "code",
   "execution_count": null,
   "id": "270312c7-a7ac-4260-a56f-69e84ed632c5",
   "metadata": {},
   "outputs": [],
   "source": [
    "fig1 = px.scatter_3d(df_data_embedded, x='X', y='Y', z='Z',\n",
    "                    color=df_data_embedded.index.get_level_values(2))\n",
    "\n",
    "theta = np.linspace(0, 2*np.pi, 120)\n",
    "phi = np.linspace(0, np.pi, 60)\n",
    "u , v = np.meshgrid(theta, phi)\n",
    "xs = np.cos(u)*np.sin(v)\n",
    "ys = np.sin(u)*np.sin(v)\n",
    "zs = np.cos(v)\n",
    "x = []\n",
    "y = []\n",
    "z = []\n",
    "for t in [theta[10*k] for k in range(12)]:  # meridians:\n",
    "    x.extend(list(np.cos(t)*np.sin(phi))+[None])# None is inserted to mark the end of a meridian line\n",
    "    y.extend(list(np.sin(t)*np.sin(phi))+[None]) \n",
    "    z.extend(list(np.cos(phi))+[None])\n",
    "    \n",
    "for s in [phi[6*k] for k in range(10)]:  # parallels\n",
    "    x.extend(list(np.cos(theta)*np.sin(s))+[None]) # None is inserted to mark the end of a parallel line \n",
    "    y.extend(list(np.sin(theta)*np.sin(s))+[None]) \n",
    "    z.extend([np.cos(s)]*120+[None])\n",
    "fig1.add_scatter3d(x=x, y=y, z=z, mode='lines', line_width=2, line_color='rgb(160,160,160)')\n",
    "\n",
    "fig1.update_layout(\n",
    "    height=800,\n",
    "    template='simple_white',\n",
    "    title_text='Hyperbolic embedding' \n",
    ")\n",
    "\n",
    "#fig1.write_html('figure_3D.html', auto_open=True)"
   ]
  },
  {
   "cell_type": "code",
   "execution_count": null,
   "id": "c0f14888-6957-4dc3-877f-1d7cdc526743",
   "metadata": {},
   "outputs": [],
   "source": []
  }
 ],
 "metadata": {
  "kernelspec": {
   "display_name": "Python 3 (ipykernel)",
   "language": "python",
   "name": "python3"
  },
  "language_info": {
   "codemirror_mode": {
    "name": "ipython",
    "version": 3
   },
   "file_extension": ".py",
   "mimetype": "text/x-python",
   "name": "python",
   "nbconvert_exporter": "python",
   "pygments_lexer": "ipython3",
   "version": "3.10.14"
  }
 },
 "nbformat": 4,
 "nbformat_minor": 5
}
